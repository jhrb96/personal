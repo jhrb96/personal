{
 "cells": [
  {
   "cell_type": "code",
   "execution_count": null,
   "id": "084830ca",
   "metadata": {},
   "outputs": [],
   "source": [
    "import pandas as pd\n",
    "import numpy as np\n",
    "import seaborn as sns\n",
    "import matplotlib.pyplot as plt\n",
    "import datetime as dt\n",
    "import yfinance as yf\n",
    "\n",
    "# Basic Example\n",
    "stock = input()\n",
    "\n",
    "# Date range for today\n",
    "end_date = dt.datetime.now()\n",
    "start_date = end_date - dt.timedelta(days=365 * 5)\n",
    "\n",
    "df = yf.download(stock, start=start_date, end=end_date)\n",
    "\n",
    "df.head()\n",
    "\n",
    "adj_close_prices = df['Adj Close']\n",
    "\n",
    "log_returns = np.log(adj_close_prices/adj_close_prices.shift(1))\n",
    "\n",
    "cumulative_log_returns = log_returns.cumsum()\n",
    "\n",
    "cumulative_log_returns.plot(title=\"Cumulative Returns\", figsize=(10, 6))"
   ]
  },
  {
   "cell_type": "code",
   "execution_count": null,
   "id": "daa54c89",
   "metadata": {},
   "outputs": [],
   "source": [
    "\n"
   ]
  }
 ],
 "metadata": {
  "kernelspec": {
   "display_name": "Python 3 (ipykernel)",
   "language": "python",
   "name": "python3"
  },
  "language_info": {
   "codemirror_mode": {
    "name": "ipython",
    "version": 3
   },
   "file_extension": ".py",
   "mimetype": "text/x-python",
   "name": "python",
   "nbconvert_exporter": "python",
   "pygments_lexer": "ipython3",
   "version": "3.11.5"
  }
 },
 "nbformat": 4,
 "nbformat_minor": 5
}
