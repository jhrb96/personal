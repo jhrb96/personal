{
 "cells": [
  {
   "cell_type": "code",
   "execution_count": 9,
   "id": "084830ca",
   "metadata": {
    "scrolled": true
   },
   "outputs": [
    {
     "name": "stdout",
     "output_type": "stream",
     "text": [
      "                                 Open        High         Low       Close  \\\n",
      "Date                                                                        \n",
      "2014-12-01 00:00:00-05:00  175.376306  175.495263  174.509630  174.832504   \n",
      "2014-12-02 00:00:00-05:00  174.874997  176.175024  174.849507  175.962601   \n",
      "2014-12-03 00:00:00-05:00  176.141019  176.863249  175.971084  176.642334   \n",
      "2014-12-04 00:00:00-05:00  176.345019  176.965303  175.631281  176.446991   \n",
      "2014-12-05 00:00:00-05:00  176.625376  177.135196  176.353481  176.735840   \n",
      "\n",
      "                              Volume  Dividends  Stock Splits  Capital Gains  \n",
      "Date                                                                          \n",
      "2014-12-01 00:00:00-05:00  103968400        0.0           0.0            0.0  \n",
      "2014-12-02 00:00:00-05:00   74507200        0.0           0.0            0.0  \n",
      "2014-12-03 00:00:00-05:00   68952000        0.0           0.0            0.0  \n",
      "2014-12-04 00:00:00-05:00   91316600        0.0           0.0            0.0  \n",
      "2014-12-05 00:00:00-05:00   91025500        0.0           0.0            0.0  \n"
     ]
    }
   ],
   "source": [
    "import yfinance as yf\n",
    "import fredapi as fd\n",
    "import datetime as dt\n",
    "import tabulate\n",
    "\n",
    "# US Treasury Interest Rate (10 Year) https://finance.yahoo.com/quote/%5ETNX/\n",
    "tbill = yf.Ticker(\"^TNX\")\n",
    "t_bill_todayData = tbill.history(period='1d')\n",
    "t_bill_rate = t_bill_todayData['Close'][0]/100\n",
    "\n",
    "# Median CPI from Federal Reserve of St Louis https://fred.stlouisfed.org/series/MEDCPIM158SFRBCLE\n",
    "fred = fd.Fred(api_key='84b9e6cdaee1e176e6adc7079fb339a0')\n",
    "CPI_Data = fred.get_series_latest_release('MEDCPIM158SFRBCLE')\n",
    "CPI = CPI_Data[-1]/100\n",
    "\n",
    "# SPDR S&P 500 ETF Trust (SPY) https://finance.yahoo.com/quote/SPY?p=SPY&.tsrc=fin-srch\n",
    "end_date = dt.datetime.now() - dt.timedelta(days=365 * 9)\n",
    "start_date = end_date - dt.timedelta(days=(365 * 9) + 1)\n",
    "\n",
    "SPY = yf.Ticker(\"SPY\")\n",
    "SPY_todayData = SPY.history(period='1d')\n",
    "SPY_Price = SPY_todayData['Close'][0]\n",
    "\n",
    "SPY_10Y = SPY.history(start=start_date, end=end_date, period='1d')\n",
    "SPY_Price_10Y = SPY_10Y['Close'][-1]\n",
    "\n",
    "SPY_Average_Return = pow((SPY_Price/SPY_Price_10Y), 1/10) - 1\n",
    "\n",
    "df = SPY_10Y\n",
    "\n",
    "print(df.tail())\n"
   ]
  },
  {
   "cell_type": "code",
   "execution_count": null,
   "id": "daa54c89",
   "metadata": {},
   "outputs": [],
   "source": [
    "\n"
   ]
  },
  {
   "cell_type": "code",
   "execution_count": null,
   "id": "7ac0a8e9",
   "metadata": {},
   "outputs": [],
   "source": []
  },
  {
   "cell_type": "code",
   "execution_count": null,
   "id": "07e6803b",
   "metadata": {},
   "outputs": [],
   "source": []
  },
  {
   "cell_type": "code",
   "execution_count": null,
   "id": "b34057a1",
   "metadata": {},
   "outputs": [],
   "source": []
  }
 ],
 "metadata": {
  "kernelspec": {
   "display_name": "Python 3 (ipykernel)",
   "language": "python",
   "name": "python3"
  },
  "language_info": {
   "codemirror_mode": {
    "name": "ipython",
    "version": 3
   },
   "file_extension": ".py",
   "mimetype": "text/x-python",
   "name": "python",
   "nbconvert_exporter": "python",
   "pygments_lexer": "ipython3",
   "version": "3.11.5"
  }
 },
 "nbformat": 4,
 "nbformat_minor": 5
}
